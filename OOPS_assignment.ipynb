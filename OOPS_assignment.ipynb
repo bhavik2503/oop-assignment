{
  "nbformat": 4,
  "nbformat_minor": 0,
  "metadata": {
    "colab": {
      "provenance": []
    },
    "kernelspec": {
      "name": "python3",
      "display_name": "Python 3"
    },
    "language_info": {
      "name": "python"
    }
  },
  "cells": [
    {
      "cell_type": "markdown",
      "source": [
        "1.  What is Object-Oriented Programming (OOP)?\n",
        "    - Object-Oriented Programming (OOP) is a programming paradigm that structures code around objects rather than logic.\n",
        "\n",
        "2.  What is a class in OOP?\n",
        "    - A class in OOPs is a blueprint for creating objects.It defines a structure that encapsulates attributes and methods that objects of that class.\n",
        "\n",
        "3.  What is an object in OOP?\n",
        "    - An object in OOP is an instance of a class. It represets its own attributes (data) and behaviors (methods).\n",
        "\n",
        "4.  What is the difference between abstraction and encapsulation?\n",
        "    - abstraction hide complexity and shows only essentials while in encapsulation for security reason like bank to restrict access of data\n",
        "\n",
        "5.  What are dunder methods in Python?\n",
        "    - Dunder methods(double underscore methods), allow you to customize the behavior of objects and define how they interact with built-in operations.\n",
        "\n",
        "6.  Explain the concept of inheritance in OOP.\n",
        "    - Inheritance in OOP is a mechanism that allows child class to acquire the properties and behaviors of parent class.\n",
        "\n",
        "7.  What is polymorphism in OOP?\n",
        "    - Polymorphism in OOP allows objects of different classes to be treated as objects of a common superclass.\n",
        "\n",
        "8.  How is encapsulation achieved in Python?\n",
        "    - Encapsulation in Python is achieved by restricting direct access to an object's data, by using private variables (__var), by using getter and setter methods, by using property decorators.\n",
        "\n",
        "9.  What is a constructor in Python?\n",
        "    - a constructor is a special method called __init__() that is automatically executed when a new object of a class is created.\n",
        "\n",
        "10. What are class and static methods in Python?\n",
        "    - A class method is associated with the class rather than any particular instance. It is declared using the (@classmethod) decorator and takes cls as its first parameter instead of self.\n",
        "    - A static method does not modify class attributes or instance attributes. It belongs to the class but does not require self or cls. It's declared using the (@staticmethod) decorator and used for utility functions inside a class.\n",
        "\n",
        "11. What is method overloading in Python?\n",
        "    - Method overloading allows multiple methods in a class to share the same name but have different parameters.actually, Python does not support true method overloading.\n",
        "\n",
        "12.  What is method overriding in OOP?\n",
        "    - method overriding in OOP allows a child class to provide a specific implementation of a method that is already defined in its parent class.\n",
        "\n",
        "13. What is a property decorator in Python?\n",
        "    - a property decorator (@property) in python is used to define getter and setter methods, allowing an instance attribute to be accessed like a normal property instead of calling a method.\n",
        "\n",
        "14. Why is polymorphism important in OOP?\n",
        "    - because it enhances code flexibility, reusability, and scalability by allowing objects of different classes to be treated as objects of a common superclass.\n",
        "\n",
        "15. What is an abstract class in Python?\n",
        "    - abstract class is a class that cannot be instantiated directly and is meant to be a blueprint for other classes means to use it you must create a subclass.\n",
        "\n",
        "16. What are the advantages of OOP?\n",
        "    - encapsulation, inheritance, scalability, maintainability, abstraction, polymorphism this are different advantages of OOP in python.\n",
        "\n",
        "17. What is the difference between a class variable and an instance variable?\n",
        "    - changes to a class variable affect all objects of the class(class Car). but changes to instance affect only that specific instance(__init__(self)).\n",
        "\n",
        "18. What is multiple inheritance in Python?\n",
        "    - multiple inheritance in python that allows a class to inherit from more than one parent class. This means that a child class can access attributes and methods from multiple base classes.\n",
        "\n",
        "19. Explain the purpose of ‘’__str__’ and ‘__repr__’ ‘ methods in Python.\n",
        "    - both are dunder methods. '__str__' is used for human-readable representation of an object. '__repr__' is used for an unambiguous representation, ideally useful for debugging.\n",
        "\n",
        "20. What is the significance of the ‘super()’ function in Python?\n",
        "    - The super() function in Python is used to call methods from a parent class in a child class. It plays a crucial role in inheritance, allowing subclasses to reuse and extend the functionality of their parent class without explicitly referring to the parent.\n",
        "\n",
        "21. What is the significance of the __del__ method in Python?\n",
        "    - The __del__ method in Python is a destructor method, it allows cleanup operations, such as closing database connections or freeing resources.\n",
        "\n",
        "22. What is the difference between @staticmethod and @classmethod in Python?\n",
        "    - @static method belongs to the class but does not access class attributes or instance attributes. even no need for self or cls as the first argument.\n",
        "    - @class method operates on class attributes, not instance attributes,used first parameter is cls, referring to the class itself.\n",
        "\n",
        "23. How does polymorphism work in Python with inheritance?\n",
        "    - Polymorphism in Python works seamlessly with inheritance, allowing child classes to override or extend the behavior of methods defined in a parent class. This ensures that different subclasses can define their own implementations while maintaining a common interface.(method overriding)\n",
        "\n",
        "24. What is method chaining in Python OOP?\n",
        "    - method chaining in python OOP is a technique where multiple methods are called on the same object in a single line.used for improve readability.\n",
        "\n",
        "25. What is the purpose of the __call__ method in Python?\n",
        "    - The __call__ method in python allows an instance of a class to be called like a function. it enables objects to behave as if they were functions, making them more flexible, used to make object callable."
      ],
      "metadata": {
        "id": "w-iu-9zsQY7P"
      }
    },
    {
      "cell_type": "markdown",
      "source": [
        "## practical questions\n",
        "\n"
      ],
      "metadata": {
        "id": "yeV2d-DAm7uO"
      }
    },
    {
      "cell_type": "markdown",
      "source": [
        "1. Create a parent class Animal with a method speak() that prints a generic message. Create a child class Dog that overrides the speak() method to print \"Bark!\"."
      ],
      "metadata": {
        "id": "m5HeiIg04d_4"
      }
    },
    {
      "cell_type": "code",
      "source": [
        "class Animal:\n",
        "    def speak(self):\n",
        "        print(\"Animal makes a sound\")\n",
        "\n",
        "class Dog(Animal):\n",
        "    def speak(self):\n",
        "        print(\"Bark!\")"
      ],
      "metadata": {
        "id": "xKDtWh0sm39y"
      },
      "execution_count": null,
      "outputs": []
    },
    {
      "cell_type": "code",
      "source": [
        "gen_animal = Animal()\n",
        "dog = Dog()"
      ],
      "metadata": {
        "id": "I-TfqP4S31UC"
      },
      "execution_count": null,
      "outputs": []
    },
    {
      "cell_type": "code",
      "execution_count": null,
      "metadata": {
        "colab": {
          "base_uri": "https://localhost:8080/"
        },
        "id": "UrptRTGMPuyA",
        "outputId": "87b6175b-c2d5-4a54-c5bd-bd031a158a75"
      },
      "outputs": [
        {
          "output_type": "stream",
          "name": "stdout",
          "text": [
            "Animal makes a sound\n"
          ]
        }
      ],
      "source": [
        "gen_animal.speak()"
      ]
    },
    {
      "cell_type": "code",
      "source": [
        "dog.speak()"
      ],
      "metadata": {
        "colab": {
          "base_uri": "https://localhost:8080/"
        },
        "id": "uq0B1_zZ4G-5",
        "outputId": "11721ae4-256c-4d3b-eade-494de2cb8573"
      },
      "execution_count": null,
      "outputs": [
        {
          "output_type": "stream",
          "name": "stdout",
          "text": [
            "Bark!\n"
          ]
        }
      ]
    },
    {
      "cell_type": "markdown",
      "source": [
        "2. Write a program to create an abstract class Shape with a method area(). Derive classes Circle and Rectangle from it and implement the area() method in both."
      ],
      "metadata": {
        "id": "TK6R-oQD4mtn"
      }
    },
    {
      "cell_type": "code",
      "source": [
        "from abc import ABC\n",
        "\n",
        "class Shape(ABC):\n",
        "    @abstractmethod\n",
        "    def area(self):\n",
        "        pass\n",
        "\n",
        "class Circle(Shape):\n",
        "    def __init__(self, radius):\n",
        "        self.radius = radius\n",
        "\n",
        "    def area(self):\n",
        "        return 3.14 * self.radius ** 2\n",
        "\n",
        "class Rectangle(Shape):\n",
        "    def __init__(self, width, height):\n",
        "        self.width = width\n",
        "        self.height = height\n",
        "\n",
        "    def area(self):\n",
        "        return self.width * self.height"
      ],
      "metadata": {
        "id": "4NmJcBfr4pib"
      },
      "execution_count": null,
      "outputs": []
    },
    {
      "cell_type": "code",
      "source": [
        "circle = Circle(10)\n",
        "rectangle = Rectangle(2, 4)"
      ],
      "metadata": {
        "id": "RSrXy0Mk4Kg4"
      },
      "execution_count": null,
      "outputs": []
    },
    {
      "cell_type": "code",
      "source": [
        "print(f\"Circle Area: {circle.area()}\")\n",
        "print(f\"Rectangle Area: {rectangle.area()}\")"
      ],
      "metadata": {
        "colab": {
          "base_uri": "https://localhost:8080/"
        },
        "id": "vzFBySee4Wzz",
        "outputId": "644a9dfa-e2f7-4261-b429-d492c19f08f7"
      },
      "execution_count": null,
      "outputs": [
        {
          "output_type": "stream",
          "name": "stdout",
          "text": [
            "Circle Area: 314.0\n",
            "Rectangle Area: 8\n"
          ]
        }
      ]
    },
    {
      "cell_type": "markdown",
      "source": [
        "3. Implement a multi-level inheritance scenario where a class Vehicle has an attribute type. Derive a class Car\n",
        "and further derive a class ElectricCar that adds a battery attribute."
      ],
      "metadata": {
        "id": "DWgfioDt6Vgg"
      }
    },
    {
      "cell_type": "code",
      "source": [
        "class Vehicle:\n",
        "    def __init__(self, vehicle_type):\n",
        "        self.vehicle_type = vehicle_type\n",
        "\n",
        "    def display_type(self):\n",
        "        return f\"Vehicle type: {self.vehicle_type}\"\n",
        "\n",
        "class Car(Vehicle):\n",
        "    def __init__(self, brand, model):\n",
        "        super().__init__(\"Car\")\n",
        "        self.brand = brand\n",
        "        self.model = model\n",
        "\n",
        "    def display_info(self):\n",
        "        return f\"{self.brand} {self.model} is a {self.vehicle_type}\"\n",
        "\n",
        "class ElectricCar(Car):\n",
        "    def __init__(self, brand, model, battery_capacity):\n",
        "        super().__init__(brand, model)\n",
        "        self.battery_capacity = battery_capacity\n",
        "\n",
        "    def display_battery(self):\n",
        "        return f\"{self.brand} {self.model} has a {self.battery_capacity} kWh\""
      ],
      "metadata": {
        "id": "eQoogdLa6Yrl"
      },
      "execution_count": null,
      "outputs": []
    },
    {
      "cell_type": "code",
      "source": [
        "tata = ElectricCar(\"curve\", \"ev\", 80)"
      ],
      "metadata": {
        "id": "YkiKpXVl7tKT"
      },
      "execution_count": null,
      "outputs": []
    },
    {
      "cell_type": "code",
      "source": [
        "print(tata.display_type())\n",
        "print(tata.display_info())\n",
        "print(tata.display_battery())"
      ],
      "metadata": {
        "colab": {
          "base_uri": "https://localhost:8080/"
        },
        "id": "9Of8DaVl6Las",
        "outputId": "0e7f45eb-6d11-48f3-9dc9-22d174bf843c"
      },
      "execution_count": null,
      "outputs": [
        {
          "output_type": "stream",
          "name": "stdout",
          "text": [
            "Vehicle type: Car\n",
            "curve ev is a Car\n",
            "curve ev has a 80 kWh\n"
          ]
        }
      ]
    },
    {
      "cell_type": "markdown",
      "source": [
        " 4. Demonstrate polymorphism by creating a base class Bird with a method fly(). Create two derived classes\n",
        "Sparrow and Penguin that override the fly() method.\n"
      ],
      "metadata": {
        "id": "8yMpNHyJ8hyK"
      }
    },
    {
      "cell_type": "code",
      "source": [
        "class Bird:\n",
        "    def fly(self):\n",
        "        return \"Birds can fly\"\n",
        "\n",
        "class Sparrow(Bird):\n",
        "    def fly(self):\n",
        "        return \"Sparrow flies \"\n",
        "\n",
        "class Penguin(Bird):\n",
        "    def fly(self):\n",
        "        return \"Penguins cann't fly\""
      ],
      "metadata": {
        "id": "qpTOPHzP8k0V"
      },
      "execution_count": null,
      "outputs": []
    },
    {
      "cell_type": "code",
      "source": [
        "birds = [Sparrow(), Penguin(), Bird()]"
      ],
      "metadata": {
        "id": "QtU7T1Gc8KjV"
      },
      "execution_count": null,
      "outputs": []
    },
    {
      "cell_type": "code",
      "source": [
        "for bird in birds:\n",
        "    print(bird.fly())"
      ],
      "metadata": {
        "colab": {
          "base_uri": "https://localhost:8080/"
        },
        "id": "sZ_W1oQn8-vl",
        "outputId": "e8188ef3-8266-4139-825e-1edaf66942ad"
      },
      "execution_count": null,
      "outputs": [
        {
          "output_type": "stream",
          "name": "stdout",
          "text": [
            "Sparrow flies \n",
            "Penguins cann't fly\n",
            "Birds can fly\n"
          ]
        }
      ]
    },
    {
      "cell_type": "markdown",
      "source": [
        "5. Write a program to demonstrate encapsulation by creating a class BankAccount with private attributes\n",
        "balance and methods to deposit, withdraw, and check balance."
      ],
      "metadata": {
        "id": "pxEexVtW9Vef"
      }
    },
    {
      "cell_type": "code",
      "source": [
        "class BankAccount:\n",
        "    def __init__(self, account_holder, initial_balance=0):\n",
        "        self.__balance = initial_balance\n",
        "        self.account_holder = account_holder\n",
        "\n",
        "    def deposit(self, amount):\n",
        "        if amount > 0:\n",
        "            self.__balance += amount\n",
        "            print(f\"Deposited: ₹{amount}\")\n",
        "        else:\n",
        "            print(\"Deposit amount positive\")\n",
        "\n",
        "    def withdraw(self, amount):\n",
        "        if 0 < amount <= self.__balance:\n",
        "            self.__balance -= amount\n",
        "            print(f\"Withdrawn: ₹{amount}\")\n",
        "        else:\n",
        "            print(\"Insufficient balance\")\n",
        "\n",
        "    def check_balance(self):\n",
        "        return f\"Account Balance: ₹{self.__balance}\""
      ],
      "metadata": {
        "id": "sZjsB8-p9Ye4"
      },
      "execution_count": null,
      "outputs": []
    },
    {
      "cell_type": "code",
      "source": [
        "account = BankAccount(\"Bhavik\", 5000)"
      ],
      "metadata": {
        "id": "maVJwMKV9Hde"
      },
      "execution_count": null,
      "outputs": []
    },
    {
      "cell_type": "code",
      "source": [
        "account.deposit(2000)"
      ],
      "metadata": {
        "colab": {
          "base_uri": "https://localhost:8080/"
        },
        "id": "NT24igjX-Q3r",
        "outputId": "74fabfb4-ed16-48b8-e9c9-c7f5af5b260a"
      },
      "execution_count": null,
      "outputs": [
        {
          "output_type": "stream",
          "name": "stdout",
          "text": [
            "Deposited: ₹2000\n"
          ]
        }
      ]
    },
    {
      "cell_type": "code",
      "source": [
        "account.withdraw(1500)"
      ],
      "metadata": {
        "colab": {
          "base_uri": "https://localhost:8080/"
        },
        "id": "wSEHAoAY-Yyw",
        "outputId": "40c4656c-000c-48ac-ae5b-4725ef968f6c"
      },
      "execution_count": null,
      "outputs": [
        {
          "output_type": "stream",
          "name": "stdout",
          "text": [
            "Withdrawn: ₹1500\n"
          ]
        }
      ]
    },
    {
      "cell_type": "code",
      "source": [
        "print(account.check_balance())"
      ],
      "metadata": {
        "colab": {
          "base_uri": "https://localhost:8080/"
        },
        "id": "CIpA-EnX-at-",
        "outputId": "e171767c-dc43-4e6e-e0f7-9b374531ee8f"
      },
      "execution_count": null,
      "outputs": [
        {
          "output_type": "stream",
          "name": "stdout",
          "text": [
            "Account Balance: ₹5500\n"
          ]
        }
      ]
    },
    {
      "cell_type": "markdown",
      "source": [
        " 6. Demonstrate runtime polymorphism using a method play() in a base class Instrument. Derive classes Guitar\n",
        "and Piano that implement their own version of play()."
      ],
      "metadata": {
        "id": "YQy-biVK-i4j"
      }
    },
    {
      "cell_type": "code",
      "source": [
        "class Instrument:\n",
        "    def play(self):\n",
        "        return \"Playing an instrument\"\n",
        "\n",
        "class Guitar(Instrument):\n",
        "    def play(self):\n",
        "        return \"playing the guitar\"\n",
        "\n",
        "class Piano(Instrument):\n",
        "    def play(self):\n",
        "        return \"Playing the piano\""
      ],
      "metadata": {
        "id": "H86_zrct-mzS"
      },
      "execution_count": null,
      "outputs": []
    },
    {
      "cell_type": "code",
      "source": [
        "instruments = [Guitar(), Piano(), Instrument()]"
      ],
      "metadata": {
        "id": "4rYqj7vr-dLm"
      },
      "execution_count": null,
      "outputs": []
    },
    {
      "cell_type": "code",
      "source": [
        "for instrument in instruments:\n",
        "    print(instrument.play())"
      ],
      "metadata": {
        "colab": {
          "base_uri": "https://localhost:8080/"
        },
        "id": "u_34tiy8_BxH",
        "outputId": "07e390e7-286d-415f-a3a9-33e7f9ef9095"
      },
      "execution_count": null,
      "outputs": [
        {
          "output_type": "stream",
          "name": "stdout",
          "text": [
            "playing the guitar\n",
            "Playing the piano\n",
            "Playing an instrument\n"
          ]
        }
      ]
    },
    {
      "cell_type": "markdown",
      "source": [
        " 7. Create a class MathOperations with a class method add_numbers() to add two numbers and a static\n",
        "method subtract_numbers() to subtract two numbers"
      ],
      "metadata": {
        "id": "AnFQ_3E8_Qol"
      }
    },
    {
      "cell_type": "code",
      "source": [
        "class MathOperations:\n",
        "    @classmethod\n",
        "    def add_numbers(cls, x, y):\n",
        "        return x + y\n",
        "\n",
        "    @staticmethod\n",
        "    def subtract_numbers(x, y):\n",
        "        return x - y"
      ],
      "metadata": {
        "id": "SwzSKCc9_O_-"
      },
      "execution_count": null,
      "outputs": []
    },
    {
      "cell_type": "code",
      "source": [
        "print(MathOperations.add_numbers(10, 10))"
      ],
      "metadata": {
        "colab": {
          "base_uri": "https://localhost:8080/"
        },
        "id": "ANsT_o_k_jX_",
        "outputId": "a08e23a9-a13c-49dd-e19d-65774b5a666c"
      },
      "execution_count": null,
      "outputs": [
        {
          "output_type": "stream",
          "name": "stdout",
          "text": [
            "20\n"
          ]
        }
      ]
    },
    {
      "cell_type": "code",
      "source": [
        "print(MathOperations.subtract_numbers(10, 15))"
      ],
      "metadata": {
        "colab": {
          "base_uri": "https://localhost:8080/"
        },
        "id": "RS9BQJC7_qTt",
        "outputId": "9e510651-981f-47d5-9595-8336a49024e5"
      },
      "execution_count": null,
      "outputs": [
        {
          "output_type": "stream",
          "name": "stdout",
          "text": [
            "-5\n"
          ]
        }
      ]
    },
    {
      "cell_type": "markdown",
      "source": [
        " 8. Implement a class Person with a class method to count the total number of persons created."
      ],
      "metadata": {
        "id": "uRnqRojondJn"
      }
    },
    {
      "cell_type": "code",
      "source": [
        "class Person:\n",
        "    total_persons = 0\n",
        "\n",
        "    def __init__(self, name):\n",
        "        self.name = name\n",
        "        Person.total_persons += 1\n",
        "\n",
        "    @classmethod\n",
        "    def get_person_count(cls):\n",
        "        return f\"Total persons: {cls.total_persons}\""
      ],
      "metadata": {
        "id": "T2GaJA3V_v6B"
      },
      "execution_count": 6,
      "outputs": []
    },
    {
      "cell_type": "code",
      "source": [
        "p1 = Person(\"bhavik\")\n",
        "p2 = Person(\"priya\")\n",
        "p3 = Person(\"dipal\")"
      ],
      "metadata": {
        "id": "HECg-1y7oP7j"
      },
      "execution_count": 7,
      "outputs": []
    },
    {
      "cell_type": "code",
      "source": [
        "print(Person.get_person_count())"
      ],
      "metadata": {
        "colab": {
          "base_uri": "https://localhost:8080/"
        },
        "id": "Bw05q9Cjohiu",
        "outputId": "dbb1d143-c559-4341-e2eb-671b0a93e2e2"
      },
      "execution_count": 8,
      "outputs": [
        {
          "output_type": "stream",
          "name": "stdout",
          "text": [
            "Total persons: 3\n"
          ]
        }
      ]
    },
    {
      "cell_type": "markdown",
      "source": [
        " 9. Write a class Fraction with attributes numerator and denominator. Override the str method to display the\n",
        "fraction as \"numerator/denominator\"."
      ],
      "metadata": {
        "id": "3_fVJXGFo-86"
      }
    },
    {
      "cell_type": "code",
      "source": [
        "class Fraction:\n",
        "    def __init__(self, numerator, denominator):\n",
        "        self.numerator = numerator\n",
        "        self.denominator = denominator\n",
        "\n",
        "    def __str__(self):\n",
        "        return f\"{self.numerator}/{self.denominator}\""
      ],
      "metadata": {
        "id": "a_0OubNZo27A"
      },
      "execution_count": 9,
      "outputs": []
    },
    {
      "cell_type": "code",
      "source": [
        "f1 = Fraction(5, 7)\n",
        "f2 = Fraction(3, 7)"
      ],
      "metadata": {
        "id": "vIcqDhYRpaF3"
      },
      "execution_count": 10,
      "outputs": []
    },
    {
      "cell_type": "code",
      "source": [
        "print(f\"Fraction 1: {f1}\")\n",
        "print(f\"Fraction 2: {f2}\")\n"
      ],
      "metadata": {
        "colab": {
          "base_uri": "https://localhost:8080/"
        },
        "id": "3lxker0vpqpD",
        "outputId": "3323b24b-78d4-44de-ac31-c818afe355fe"
      },
      "execution_count": 11,
      "outputs": [
        {
          "output_type": "stream",
          "name": "stdout",
          "text": [
            "Fraction 1: 5/7\n",
            "Fraction 2: 3/7\n"
          ]
        }
      ]
    },
    {
      "cell_type": "markdown",
      "source": [
        " 10. Demonstrate operator overloading by creating a class Vector and overriding the add method to add two\n",
        "vectors."
      ],
      "metadata": {
        "id": "zTfUfe2Lp4lj"
      }
    },
    {
      "cell_type": "code",
      "source": [
        "class Vector:\n",
        "    def __init__(self, x, y):\n",
        "        self.x = x\n",
        "        self.y = y\n",
        "\n",
        "    def __add__(self, other):\n",
        "        return Vector(self.x + other.x, self.y + other.y)\n",
        "\n",
        "    def __str__(self):\n",
        "        return f\"({self.x}, {self.y})\""
      ],
      "metadata": {
        "id": "hNzPZwhZp0PH"
      },
      "execution_count": 12,
      "outputs": []
    },
    {
      "cell_type": "code",
      "source": [
        "vector1 = Vector(3, 4)\n",
        "vector2 = Vector(7, 8)\n",
        "\n",
        "vector_sum = vector1 + vector2"
      ],
      "metadata": {
        "id": "yr9LEt5kqWi1"
      },
      "execution_count": 13,
      "outputs": []
    },
    {
      "cell_type": "code",
      "source": [
        "print(f\"Vector 1: {vector1}\")\n",
        "print(f\"Vector 2: {vector2}\")\n",
        "print(f\"Sum of Vectors: {vector_sum}\")"
      ],
      "metadata": {
        "colab": {
          "base_uri": "https://localhost:8080/"
        },
        "id": "yBS1WQvHqq2z",
        "outputId": "f00cb77f-5ff0-4cf7-ff46-1df67267e3f0"
      },
      "execution_count": 14,
      "outputs": [
        {
          "output_type": "stream",
          "name": "stdout",
          "text": [
            "Vector 1: (3, 4)\n",
            "Vector 2: (7, 8)\n",
            "Sum of Vectors: (10, 12)\n"
          ]
        }
      ]
    },
    {
      "cell_type": "markdown",
      "source": [
        " 11. Create a class Person with attributes name and age. Add a method greet() that prints \"Hello, my name is\n",
        "{name} and I am {age} years old.\""
      ],
      "metadata": {
        "id": "y2MhCCWkrBMC"
      }
    },
    {
      "cell_type": "code",
      "source": [
        "class Person:\n",
        "    def __init__(self, name, age):\n",
        "        self.name = name\n",
        "        self.age = age\n",
        "\n",
        "    def greet(self):\n",
        "        print(f\"Hello, my name is {self.name} and I am {self.age} years old.\")"
      ],
      "metadata": {
        "id": "CDWab0RWquzG"
      },
      "execution_count": 15,
      "outputs": []
    },
    {
      "cell_type": "code",
      "source": [
        "p1 = Person(\"bhavik\", 32)\n",
        "p2 = Person(\"priya\", 30)\n"
      ],
      "metadata": {
        "id": "aQ-T-hGprUg3"
      },
      "execution_count": 16,
      "outputs": []
    },
    {
      "cell_type": "code",
      "source": [
        "p1.greet()\n",
        "p2.greet()"
      ],
      "metadata": {
        "colab": {
          "base_uri": "https://localhost:8080/"
        },
        "id": "YBfJtCUesBML",
        "outputId": "0bdda399-09c3-428e-decf-34273bab682c"
      },
      "execution_count": 17,
      "outputs": [
        {
          "output_type": "stream",
          "name": "stdout",
          "text": [
            "Hello, my name is bhavik and I am 32 years old.\n",
            "Hello, my name is priya and I am 30 years old.\n"
          ]
        }
      ]
    },
    {
      "cell_type": "markdown",
      "source": [
        " 12. Implement a class Student with attributes name and grades. Create a method average_grade() to compute\n",
        "the average of the grades."
      ],
      "metadata": {
        "id": "71n967xSsLtm"
      }
    },
    {
      "cell_type": "code",
      "source": [
        "class Student:\n",
        "    def __init__(self, name, grades):\n",
        "        self.name = name\n",
        "        self.grades = grades\n",
        "\n",
        "    def average_grade(self):\n",
        "        if not self.grades:\n",
        "            return \"No grades available.\"\n",
        "        return sum(self.grades) / len(self.grades)\n",
        "\n",
        "    def __str__(self):\n",
        "        return f\"Student: {self.name}, Average Grade: {self.average_grade():.2f}\""
      ],
      "metadata": {
        "id": "aVfujzgrsGIX"
      },
      "execution_count": 18,
      "outputs": []
    },
    {
      "cell_type": "code",
      "source": [
        "s1 = Student(\"bhavik\", [65, 74, 84, 81])\n",
        "s2 = Student(\"Bob\", [76, 75, 74])"
      ],
      "metadata": {
        "id": "J1_WK5Xzs0is"
      },
      "execution_count": 19,
      "outputs": []
    },
    {
      "cell_type": "code",
      "source": [
        "print(s1)\n",
        "print(s2)"
      ],
      "metadata": {
        "colab": {
          "base_uri": "https://localhost:8080/"
        },
        "id": "-PY5h-rctNw2",
        "outputId": "71f7861f-8eb7-4464-acb4-211dcf4b1fea"
      },
      "execution_count": 20,
      "outputs": [
        {
          "output_type": "stream",
          "name": "stdout",
          "text": [
            "Student: bhavik, Average Grade: 76.00\n",
            "Student: Bob, Average Grade: 75.00\n"
          ]
        }
      ]
    },
    {
      "cell_type": "markdown",
      "source": [
        " 13. Create a class Rectangle with methods set_dimensions() to set the dimensions and area() to calculate the\n",
        "area."
      ],
      "metadata": {
        "id": "zfTsL14QtTFQ"
      }
    },
    {
      "cell_type": "code",
      "source": [
        "class Rectangle:\n",
        "    def __init__(self, width=0, height=0):\n",
        "        self.width = width\n",
        "        self.height = height\n",
        "\n",
        "    def set_dimensions(self, width, height):\n",
        "        self.width = width\n",
        "        self.height = height\n",
        "\n",
        "    def area(self):\n",
        "        return self.width * self.height\n",
        "\n",
        "    def __str__(self):\n",
        "        return f\"Rectangle (Width: {self.width}, Height: {self.height}, Area: {self.area()})\""
      ],
      "metadata": {
        "id": "JWfL9to3tPix"
      },
      "execution_count": 21,
      "outputs": []
    },
    {
      "cell_type": "code",
      "source": [
        "rect1 = Rectangle()\n",
        "rect1.set_dimensions(4, 6)"
      ],
      "metadata": {
        "id": "aSd2CDN3t0Y_"
      },
      "execution_count": 22,
      "outputs": []
    },
    {
      "cell_type": "code",
      "source": [
        "print(rect1)\n",
        "print(f\"Area of rectangle: {rect1.area()}\")"
      ],
      "metadata": {
        "colab": {
          "base_uri": "https://localhost:8080/"
        },
        "id": "IlXVH3VPt8HW",
        "outputId": "81fa1b31-516d-440c-bb57-25afc57f74ff"
      },
      "execution_count": 23,
      "outputs": [
        {
          "output_type": "stream",
          "name": "stdout",
          "text": [
            "Rectangle (Width: 4, Height: 6, Area: 24)\n",
            "Area of rectangle: 24\n"
          ]
        }
      ]
    },
    {
      "cell_type": "markdown",
      "source": [
        " 14. Create a class Employee with a method calculate_salary() that computes the salary based on hours worked\n",
        "and hourly rate. Create a derived class Manager that adds a bonus to the salary."
      ],
      "metadata": {
        "id": "zyjYZDw6uCzG"
      }
    },
    {
      "cell_type": "code",
      "source": [
        "class Employee:\n",
        "    def __init__(self, name, hours_worked, hourly_rate):\n",
        "        self.name = name\n",
        "        self.hours_worked = hours_worked\n",
        "        self.hourly_rate = hourly_rate\n",
        "\n",
        "    def calculate_salary(self):\n",
        "        return self.hours_worked * self.hourly_rate\n",
        "\n",
        "    def __str__(self):\n",
        "        return f\"Employee: {self.name}, Salary: {self.calculate_salary():.2f}\"\n",
        "\n",
        "class Manager(Employee):\n",
        "    def __init__(self, name, hours_worked, hourly_rate, bonus):\n",
        "        super().__init__(name, hours_worked, hourly_rate)\n",
        "        self.bonus = bonus\n",
        "\n",
        "    def calculate_salary(self):\n",
        "        return super().calculate_salary() + self.bonus\n",
        "\n",
        "    def __str__(self):\n",
        "        return f\"Manager: {self.name}, Salary (with bonus): {self.calculate_salary():.2f}\""
      ],
      "metadata": {
        "id": "56SgLZ0kt-I8"
      },
      "execution_count": 24,
      "outputs": []
    },
    {
      "cell_type": "code",
      "source": [
        "employee1 = Employee(\"bhavik\", 50, 10)\n",
        "manager1 = Manager(\"priya\", 45, 20, 800)"
      ],
      "metadata": {
        "id": "6hmCur0Ruzvk"
      },
      "execution_count": 25,
      "outputs": []
    },
    {
      "cell_type": "code",
      "source": [
        "print(employee1)\n",
        "print(manager1)"
      ],
      "metadata": {
        "colab": {
          "base_uri": "https://localhost:8080/"
        },
        "id": "qB32L-1SvKlq",
        "outputId": "947ec955-fca8-4588-870f-ca59ca2babd3"
      },
      "execution_count": 26,
      "outputs": [
        {
          "output_type": "stream",
          "name": "stdout",
          "text": [
            "Employee: bhavik, Salary: 500.00\n",
            "Manager: priya, Salary (with bonus): 1700.00\n"
          ]
        }
      ]
    },
    {
      "cell_type": "markdown",
      "source": [
        "15. Create a class Product with attributes name, price, and quantity. Implement a method total_price() that\n",
        "calculates the total price of the product."
      ],
      "metadata": {
        "id": "d_1_Xw_fvSjY"
      }
    },
    {
      "cell_type": "code",
      "source": [
        "class Product:\n",
        "    def __init__(self, name, price, quantity):\n",
        "        self.name = name\n",
        "        self.price = price\n",
        "        self.quantity = quantity\n",
        "\n",
        "    def total_price(self):\n",
        "        return self.price * self.quantity\n",
        "\n",
        "    def __str__(self):\n",
        "        return f\"Product: {self.name}, Price: {self.price}, Quantity: {self.quantity}, Total Price: {self.total_price():.2f}\""
      ],
      "metadata": {
        "id": "YZbL4L26vNZG"
      },
      "execution_count": 27,
      "outputs": []
    },
    {
      "cell_type": "code",
      "source": [
        "p1 = Product(\"pc\", 50000, 5)\n",
        "p2 = Product(\"keyboard\", 500, 5)"
      ],
      "metadata": {
        "id": "J8ekT2Btvt4T"
      },
      "execution_count": 28,
      "outputs": []
    },
    {
      "cell_type": "code",
      "source": [
        "print(p1)\n",
        "print(p2)"
      ],
      "metadata": {
        "colab": {
          "base_uri": "https://localhost:8080/"
        },
        "id": "PMsQj4riv-ht",
        "outputId": "87d2edb7-3c04-48d3-f926-029552c0e581"
      },
      "execution_count": 29,
      "outputs": [
        {
          "output_type": "stream",
          "name": "stdout",
          "text": [
            "Product: pc, Price: 50000, Quantity: 5, Total Price: 250000.00\n",
            "Product: keyboard, Price: 500, Quantity: 5, Total Price: 2500.00\n"
          ]
        }
      ]
    },
    {
      "cell_type": "markdown",
      "source": [
        " 16. Create a class Animal with an abstract method sound(). Create two derived classes Cow and Sheep that\n",
        "implement the sound() method."
      ],
      "metadata": {
        "id": "wJG0xXBvwG6r"
      }
    },
    {
      "cell_type": "code",
      "source": [
        "from abc import ABC, abstractmethod\n",
        "\n",
        "class Animal(ABC):\n",
        "\n",
        "    @abstractmethod\n",
        "    def sound(self):\n",
        "        pass\n",
        "\n",
        "class Cow(Animal):\n",
        "    def sound(self):\n",
        "        return \"moooo\"\n",
        "\n",
        "class Sheep(Animal):\n",
        "    def sound(self):\n",
        "        return \"Boooo\""
      ],
      "metadata": {
        "id": "XYo_E0ciwDC8"
      },
      "execution_count": 32,
      "outputs": []
    },
    {
      "cell_type": "code",
      "source": [
        "cow = Cow()\n",
        "sheep = Sheep()"
      ],
      "metadata": {
        "id": "FtEhl7oewspA"
      },
      "execution_count": 33,
      "outputs": []
    },
    {
      "cell_type": "code",
      "source": [
        "print(f\"Cow sound: {cow.sound()}\")\n",
        "print(f\"Sheep sound: {sheep.sound()}\")"
      ],
      "metadata": {
        "colab": {
          "base_uri": "https://localhost:8080/"
        },
        "id": "ZohlBkdpw-qL",
        "outputId": "df435d96-9f5f-4c10-b796-819c72018343"
      },
      "execution_count": 34,
      "outputs": [
        {
          "output_type": "stream",
          "name": "stdout",
          "text": [
            "Cow sound: moooo\n",
            "Sheep sound: Boooo\n"
          ]
        }
      ]
    },
    {
      "cell_type": "markdown",
      "source": [
        " 17. Create a class Book with attributes title, author, and year_published. Add a method get_book_info() that\n",
        "returns a formatted string with the book's details."
      ],
      "metadata": {
        "id": "dqurEwv-xP7Q"
      }
    },
    {
      "cell_type": "code",
      "source": [
        "class Book:\n",
        "    def __init__(self, title, author, year_published):\n",
        "        self.title = title\n",
        "        self.author = author\n",
        "        self.year_published = year_published\n",
        "\n",
        "    def get_book_info(self):\n",
        "        return f\"'{self.title}' by {self.author}, published in {self.year_published}.\""
      ],
      "metadata": {
        "id": "L6TNEP50xLWK"
      },
      "execution_count": 35,
      "outputs": []
    },
    {
      "cell_type": "code",
      "source": [
        "book1 = Book(\"quantum mechanics\", \"schodinger\", 1928)\n",
        "print(book1.get_book_info())"
      ],
      "metadata": {
        "colab": {
          "base_uri": "https://localhost:8080/"
        },
        "id": "3Nrh5YOzxwZM",
        "outputId": "3d6c0279-ccf8-4bbe-b41e-fad62fa6f9cd"
      },
      "execution_count": 36,
      "outputs": [
        {
          "output_type": "stream",
          "name": "stdout",
          "text": [
            "'quantum mechanics' by schodinger, published in 1928.\n"
          ]
        }
      ]
    },
    {
      "cell_type": "markdown",
      "source": [
        " 18. Create a class House with attributes address and price. Create a derived class Mansion that adds an\n",
        "attribute number_of_rooms.\n"
      ],
      "metadata": {
        "id": "Pqf7F7ZuyFpJ"
      }
    },
    {
      "cell_type": "code",
      "source": [
        "class House:\n",
        "    def __init__(self, address, price):\n",
        "        self.address = address\n",
        "        self.price = price\n",
        "\n",
        "    def get_house_info(self):\n",
        "        return f\"Address: {self.address}, Price: ${self.price:,}\"\n",
        "\n",
        "class Bunglow(House):\n",
        "    def __init__(self, address, price, number_of_rooms):\n",
        "        super().__init__(address, price)\n",
        "        self.number_of_rooms = number_of_rooms\n",
        "\n",
        "    def get_bunglow_info(self):\n",
        "        return f\"{self.get_house_info()}, Number of rooms: {self.number_of_rooms}\""
      ],
      "metadata": {
        "id": "4dU0AuV3yBsN"
      },
      "execution_count": 38,
      "outputs": []
    },
    {
      "cell_type": "code",
      "source": [
        "bung1 = Bunglow(\"13 ramkutir ahm\", 10000000, 10)\n",
        "print(bung1.get_bunglow_info())\n"
      ],
      "metadata": {
        "colab": {
          "base_uri": "https://localhost:8080/"
        },
        "id": "JtcAtKBXyy6A",
        "outputId": "7f0ac8b3-a7a7-416d-e906-930c10c9c756"
      },
      "execution_count": 39,
      "outputs": [
        {
          "output_type": "stream",
          "name": "stdout",
          "text": [
            "Address: 13 ramkutir ahm, Price: $10,000,000, Number of rooms: 10\n"
          ]
        }
      ]
    },
    {
      "cell_type": "code",
      "source": [],
      "metadata": {
        "id": "nOPB-zEOy4kW"
      },
      "execution_count": null,
      "outputs": []
    }
  ]
}